{
 "cells": [
  {
   "cell_type": "markdown",
   "metadata": {},
   "source": [
    "## INM 702 Coursework Code: Task 6\n",
    "## Implementation of a fully connected Neural Network on CK+ dataset, using keras\n",
    "### By: Jasveen Kaur and Nikhil Vallakati\n"
   ]
  },
  {
   "cell_type": "markdown",
   "metadata": {},
   "source": [
    "### Importing packages"
   ]
  },
  {
   "cell_type": "code",
   "execution_count": 32,
   "metadata": {},
   "outputs": [],
   "source": [
    "from __future__ import print_function\n",
    "import keras\n",
    "from keras.models import Sequential\n",
    "from keras.layers.core import Dense, Activation, Dropout, Flatten\n",
    "from keras.callbacks import EarlyStopping\n",
    "from keras.utils import np_utils\n",
    "from keras import regularizers, optimizers, preprocessing\n",
    "from keras.layers import Conv2D, MaxPool2D\n",
    "\n",
    "from keras import backend as K\n",
    "from keras.layers.normalization import BatchNormalization\n",
    "\n",
    "import pandas as pd\n",
    "import io\n",
    "import os\n",
    "import requests\n",
    "import numpy as np\n",
    "import pickle\n",
    "\n",
    "import tensorflow as tf\n",
    "import matplotlib.pyplot as plt\n",
    "\n",
    "from sklearn.datasets import fetch_lfw_people\n",
    "from sklearn.metrics import confusion_matrix, classification_report, accuracy_score, f1_score\n",
    "from sklearn.ensemble import RandomForestClassifier\n",
    "from sklearn import metrics\n",
    "from sklearn.model_selection import train_test_split\n",
    "\n",
    "import seaborn as sns\n",
    "import base64\n"
   ]
  },
  {
   "cell_type": "markdown",
   "metadata": {},
   "source": [
    "### Data Loading and Preprocessing"
   ]
  },
  {
   "cell_type": "code",
   "execution_count": 33,
   "metadata": {},
   "outputs": [],
   "source": [
    "data = pd.read_pickle('./ck_final.pickle')"
   ]
  },
  {
   "cell_type": "code",
   "execution_count": 34,
   "metadata": {},
   "outputs": [],
   "source": [
    "(training_data, validation_data, test_data) = data['training_data'], data['validation_data'], data['test_data']\n",
    "(X_train, y_train), (X_val, y_val), (X_test, y_test) = (training_data[0],training_data[1]), (validation_data[0],validation_data[1]), (test_data[0],test_data[1])\n",
    "\n",
    "# input image dimensions\n",
    "img_rows, img_cols = data['img_dim']['width'], data['img_dim']['height']"
   ]
  },
  {
   "cell_type": "code",
   "execution_count": 35,
   "metadata": {},
   "outputs": [],
   "source": [
    "# Converting the labels to their categorical form (similar to one-hot encoding)\n",
    "num_labels = 8\n",
    "Y_train = np_utils.to_categorical(y_train, num_labels)\n",
    "Y_val = np_utils.to_categorical(y_val, num_labels)\n",
    "Y_test = np_utils.to_categorical(y_test, num_labels)"
   ]
  },
  {
   "cell_type": "markdown",
   "metadata": {},
   "source": [
    "### Model training using Random Forest Classifier"
   ]
  },
  {
   "cell_type": "code",
   "execution_count": 36,
   "metadata": {},
   "outputs": [
    {
     "name": "stdout",
     "output_type": "stream",
     "text": [
      "The accuracy is:  59.774011299435024 %\n",
      "F1 score: 0.559198\n"
     ]
    },
    {
     "name": "stderr",
     "output_type": "stream",
     "text": [
      "C:\\Users\\asus\\anaconda3.7\\lib\\site-packages\\sklearn\\metrics\\classification.py:1437: UndefinedMetricWarning: F-score is ill-defined and being set to 0.0 in labels with no predicted samples.\n",
      "  'precision', 'predicted', average, warn_for)\n"
     ]
    }
   ],
   "source": [
    "Random_Forest_model = RandomForestClassifier(n_estimators=200,criterion=\"entropy\")\n",
    "RFC_model = Random_Forest_model.fit(X_train, y_train.ravel())\n",
    "pred = Random_Forest_model.predict(X_test)\n",
    "\n",
    "#Calculating the accuracy and f1 score of the trained model\n",
    "accuracy = accuracy_score(y_test,pred)\n",
    "f1 = f1_score(y_test, pred, average='weighted')\n",
    "\n",
    "print(\"Training Accuracy:\",\"{:.2f}\".format(accuracy*100), '%')\n",
    "print(\"F1 score:\" ,\"{:.2f}\".format(f1))"
   ]
  },
  {
   "cell_type": "code",
   "execution_count": 45,
   "metadata": {},
   "outputs": [
    {
     "name": "stdout",
     "output_type": "stream",
     "text": [
      "            Confusion Matrix\n",
      "[[171  27   0   0   2  11   0  16]\n",
      " [ 48  59   0   0   0   0   6   0]\n",
      " [ 13  14   0   0   0   0   0   0]\n",
      " [ 44  13   0  38   0   3   0   0]\n",
      " [ 37   0   0   0   6  18   0   0]\n",
      " [ 11   0   0   0   0 135   0   2]\n",
      " [ 53   0   0   0   0   0   0   8]\n",
      " [ 28   0   0   0   0   2   0 120]]\n"
     ]
    },
    {
     "data": {
      "image/png": "[encoded data removed]",
      "text/plain": [
       "<Figure size 288x288 with 2 Axes>"
      ]
     },
     "metadata": {
      "needs_background": "light"
     },
     "output_type": "display_data"
    }
   ],
   "source": [
    "cm = confusion_matrix(y_test, pred)\n",
    "print(\"            Confusion Matrix\")\n",
    "print(cm)\n",
    "\n",
    "plt.matshow(cm)\n",
    "plt.colorbar()\n",
    "plt.ylabel('True label')\n",
    "plt.xlabel('Predicted label')\n",
    "plt.show()"
   ]
  },
  {
   "cell_type": "code",
   "execution_count": 46,
   "metadata": {},
   "outputs": [],
   "source": [
    "# Reshaping to create a tensor\n",
    "X_train = X_train.reshape(X_train.shape[0], img_rows, img_cols, 1)\n",
    "X_val = X_val.reshape(X_val.shape[0], img_rows, img_cols, 1)\n",
    "X_test = X_test.reshape(X_test.shape[0], img_rows, img_cols, 1)\n",
    "input_shape = (img_rows, img_cols, 1)"
   ]
  },
  {
   "cell_type": "markdown",
   "metadata": {},
   "source": [
    "### Model"
   ]
  },
  {
   "cell_type": "code",
   "execution_count": 92,
   "metadata": {},
   "outputs": [],
   "source": [
    "batch_size = 16\n",
    "epochs = 10\n",
    "\n",
    "model = Sequential()\n",
    "model.add(Conv2D(32, kernel_size=(3, 3), activation='relu', input_shape=input_shape))\n",
    "model.add(BatchNormalization())\n",
    "\n",
    "model.add(Conv2D(64, (3, 3), activation='relu'))\n",
    "model.add(MaxPooling2D(pool_size=(2, 2)))\n",
    "model.add(Dropout(0.3))\n",
    "model.add(BatchNormalization())\n",
    "\n",
    "model.add(Conv2D(128, (3, 3), activation='relu'))\n",
    "model.add(MaxPooling2D(pool_size=(2, 2)))\n",
    "model.add(Dropout(0.3))\n",
    "model.add(BatchNormalization())\n",
    "\n",
    "#model.add(Conv2D(512, (3, 3), activation='relu'))\n",
    "#model.add(Flatten())\n",
    "#model.add(Dense(, activation = 'relu'))\n",
    "#model.add(Dropout(0.3))\n",
    "#model.add(BatchNormalization())\n",
    "\n",
    "model.add(Flatten())\n",
    "model.add(Dense(num_labels, activation='softmax'))"
   ]
  },
  {
   "cell_type": "code",
   "execution_count": 93,
   "metadata": {},
   "outputs": [
    {
     "name": "stdout",
     "output_type": "stream",
     "text": [
      "Model: \"sequential_6\"\n",
      "_________________________________________________________________\n",
      "Layer (type)                 Output Shape              Param #   \n",
      "=================================================================\n",
      "conv2d_17 (Conv2D)           (None, 98, 98, 32)        320       \n",
      "_________________________________________________________________\n",
      "batch_normalization_9 (Batch (None, 98, 98, 32)        128       \n",
      "_________________________________________________________________\n",
      "conv2d_18 (Conv2D)           (None, 96, 96, 64)        18496     \n",
      "_________________________________________________________________\n",
      "max_pooling2d_11 (MaxPooling (None, 48, 48, 64)        0         \n",
      "_________________________________________________________________\n",
      "dropout_16 (Dropout)         (None, 48, 48, 64)        0         \n",
      "_________________________________________________________________\n",
      "batch_normalization_10 (Batc (None, 48, 48, 64)        256       \n",
      "_________________________________________________________________\n",
      "conv2d_19 (Conv2D)           (None, 46, 46, 128)       73856     \n",
      "_________________________________________________________________\n",
      "max_pooling2d_12 (MaxPooling (None, 23, 23, 128)       0         \n",
      "_________________________________________________________________\n",
      "dropout_17 (Dropout)         (None, 23, 23, 128)       0         \n",
      "_________________________________________________________________\n",
      "batch_normalization_11 (Batc (None, 23, 23, 128)       512       \n",
      "_________________________________________________________________\n",
      "flatten_6 (Flatten)          (None, 67712)             0         \n",
      "_________________________________________________________________\n",
      "dense_10 (Dense)             (None, 8)                 541704    \n",
      "=================================================================\n",
      "Total params: 635,272\n",
      "Trainable params: 634,824\n",
      "Non-trainable params: 448\n",
      "_________________________________________________________________\n"
     ]
    }
   ],
   "source": [
    "model.summary()"
   ]
  },
  {
   "cell_type": "code",
   "execution_count": 94,
   "metadata": {},
   "outputs": [],
   "source": [
    "model.compile(loss=keras.losses.categorical_crossentropy,\n",
    "              optimizer=keras.optimizers.Adadelta(),\n",
    "              metrics=['accuracy'])"
   ]
  },
  {
   "cell_type": "markdown",
   "metadata": {},
   "source": [
    "### Training the model"
   ]
  },
  {
   "cell_type": "code",
   "execution_count": 95,
   "metadata": {},
   "outputs": [
    {
     "name": "stdout",
     "output_type": "stream",
     "text": [
      "Train on 4117 samples, validate on 874 samples\n",
      "Epoch 1/10\n",
      "4117/4117 [==============================] - 141s 34ms/step - loss: 4.8893 - accuracy: 0.6211 - val_loss: 13.4845 - val_accuracy: 0.0286\n",
      "Epoch 2/10\n",
      "4117/4117 [==============================] - 141s 34ms/step - loss: 1.7285 - accuracy: 0.8050 - val_loss: 3.9742 - val_accuracy: 0.5092\n",
      "Epoch 3/10\n",
      "4117/4117 [==============================] - 138s 33ms/step - loss: 1.4036 - accuracy: 0.8382 - val_loss: 3.0505 - val_accuracy: 0.6556\n",
      "Epoch 4/10\n",
      "4117/4117 [==============================] - 138s 34ms/step - loss: 1.2084 - accuracy: 0.8540 - val_loss: 3.0388 - val_accuracy: 0.6522\n",
      "Epoch 5/10\n",
      "4117/4117 [==============================] - 136s 33ms/step - loss: 1.0002 - accuracy: 0.8759 - val_loss: 3.0679 - val_accuracy: 0.6419\n",
      "Epoch 6/10\n",
      "4117/4117 [==============================] - 141s 34ms/step - loss: 0.8784 - accuracy: 0.8905 - val_loss: 2.7345 - val_accuracy: 0.7140\n",
      "Epoch 7/10\n",
      "4117/4117 [==============================] - 144s 35ms/step - loss: 0.7880 - accuracy: 0.8909 - val_loss: 3.3906 - val_accuracy: 0.7323\n",
      "Epoch 8/10\n",
      "4117/4117 [==============================] - 143s 35ms/step - loss: 0.6872 - accuracy: 0.9060 - val_loss: 3.7300 - val_accuracy: 0.6510\n",
      "Epoch 9/10\n",
      "4117/4117 [==============================] - 143s 35ms/step - loss: 0.6011 - accuracy: 0.9150 - val_loss: 2.9014 - val_accuracy: 0.6922\n",
      "Epoch 10/10\n",
      "4117/4117 [==============================] - 143s 35ms/step - loss: 0.5433 - accuracy: 0.9208 - val_loss: 3.5859 - val_accuracy: 0.6682\n"
     ]
    }
   ],
   "source": [
    "history = model.fit(X_train, Y_train,\n",
    "          batch_size=batch_size,\n",
    "          epochs=epochs,\n",
    "          verbose=1,\n",
    "          validation_data=(X_val, Y_val))"
   ]
  },
  {
   "cell_type": "markdown",
   "metadata": {},
   "source": [
    "### Evaluating the trained model"
   ]
  },
  {
   "cell_type": "code",
   "execution_count": 111,
   "metadata": {},
   "outputs": [
    {
     "name": "stdout",
     "output_type": "stream",
     "text": [
      "Validation accuracy: 66.82 %\n",
      "Validation loss: 3.59\n"
     ]
    }
   ],
   "source": [
    "score = model.evaluate(X_val, Y_val, verbose=0)\n",
    "print(\"Validation accuracy:\",\"{:.2f}\".format(score[1]*100), '%')\n",
    "print(\"Validation loss:\",\"{:.2f}\".format(score[0]))"
   ]
  },
  {
   "cell_type": "code",
   "execution_count": 112,
   "metadata": {},
   "outputs": [],
   "source": [
    "# predict probabilities for test set\n",
    "y_probs = model.predict(X_test, verbose=0)\n",
    "# predict classes for test set\n",
    "y_pred = model.predict_classes(X_test, verbose=0)"
   ]
  },
  {
   "cell_type": "code",
   "execution_count": 113,
   "metadata": {},
   "outputs": [
    {
     "name": "stdout",
     "output_type": "stream",
     "text": [
      "Test Accuracy: 60.23 %\n",
      "F1 score: 0.57\n"
     ]
    }
   ],
   "source": [
    "accuracy = accuracy_score(y_test, y_pred)\n",
    "print(\"Test Accuracy:\",\"{:.2f}\".format(accuracy*100), '%')\n",
    "f1 = f1_score(y_test, y_pred, average='weighted')\n",
    "print(\"F1 score:\" ,\"{:.2f}\".format(f1))"
   ]
  },
  {
   "cell_type": "markdown",
   "metadata": {},
   "source": [
    "### Plotting the Loss and Accuracy"
   ]
  },
  {
   "cell_type": "code",
   "execution_count": 125,
   "metadata": {},
   "outputs": [
    {
     "data": {
      "image/png": "[encoded data removed]",
      "text/plain": [
       "<Figure size 432x288 with 1 Axes>"
      ]
     },
     "metadata": {
      "needs_background": "light"
     },
     "output_type": "display_data"
    }
   ],
   "source": [
    "#plot loss\n",
    "plt.subplot(212)\n",
    "plt.title('Loss')\n",
    "plt.plot(history.history['loss'], label='train')\n",
    "plt.plot(history.history['val_loss'], label='val')\n",
    "plt.legend()\n",
    "plt.show()"
   ]
  },
  {
   "cell_type": "code",
   "execution_count": 124,
   "metadata": {},
   "outputs": [
    {
     "data": {
      "image/png": "[encoded data removed]",
      "text/plain": [
       "<Figure size 432x288 with 1 Axes>"
      ]
     },
     "metadata": {
      "needs_background": "light"
     },
     "output_type": "display_data"
    }
   ],
   "source": [
    "# plot accuracy \n",
    "plt.subplot(212)\n",
    "plt.title('Accuracy')\n",
    "plt.plot(history.history['accuracy'], label='train')\n",
    "plt.xlabel('Epochs')\n",
    "plt.ylabel('Accuracy ( x 100)')\n",
    "plt.plot(history.history['val_accuracy'], label='Val')\n",
    "plt.legend()\n",
    "plt.show()"
   ]
  },
  {
   "cell_type": "markdown",
   "metadata": {},
   "source": [
    "### Confusion Matrix"
   ]
  },
  {
   "cell_type": "code",
   "execution_count": 116,
   "metadata": {},
   "outputs": [
    {
     "name": "stdout",
     "output_type": "stream",
     "text": [
      "          Confusion Matrix\n",
      "[[126   0   0  25   0  16  14  46]\n",
      " [ 42  35   0  22   7   0   0   7]\n",
      " [ 26   1   0   0   0   0   0   0]\n",
      " [ 11   0   0  74   0   2   0  11]\n",
      " [  6   0   0   4   5  13  33   0]\n",
      " [  6   0   0   4   4 129   0   5]\n",
      " [  9   0   3   0   1   0  43   5]\n",
      " [ 28   0   0   1   0   0   0 121]]\n"
     ]
    },
    {
     "data": {
      "image/png": "[encoded data removed]",
      "text/plain": [
       "<Figure size 288x288 with 2 Axes>"
      ]
     },
     "metadata": {
      "needs_background": "light"
     },
     "output_type": "display_data"
    }
   ],
   "source": [
    "cm = confusion_matrix(y_test, y_pred)\n",
    "print(\"          Confusion Matrix\")\n",
    "print(cm)\n",
    "plt.matshow(cm)\n",
    "plt.title('Confusion Matrix\\n')\n",
    "plt.colorbar()\n",
    "plt.ylabel('True label')\n",
    "plt.xlabel('Predicted label')\n",
    "plt.show()"
   ]
  },
  {
   "cell_type": "markdown",
   "metadata": {},
   "source": [
    "The Model gives 92.08% test accuracy, 66.82% validation accuracy and 60.23% test accuracy with 4 layer (1 input, 2 hidden and 3 output) neural network. The nwural network had 3 convolutional layers followed by relu activation, dropout and batch normalization and one dense layer followed by softmax activation function."
   ]
  }
 ],
 "metadata": {
  "kernelspec": {
   "display_name": "Python 3",
   "language": "python",
   "name": "python3"
  },
  "language_info": {
   "codemirror_mode": {
    "name": "ipython",
    "version": 3
   },
   "file_extension": ".py",
   "mimetype": "text/x-python",
   "name": "python",
   "nbconvert_exporter": "python",
   "pygments_lexer": "ipython3",
   "version": "3.6.9"
  }
 },
 "nbformat": 4,
 "nbformat_minor": 2
}
